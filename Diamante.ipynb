{
  "nbformat": 4,
  "nbformat_minor": 0,
  "metadata": {
    "colab": {
      "name": "Diamante.ipynb",
      "provenance": [],
      "collapsed_sections": [],
      "include_colab_link": true
    },
    "kernelspec": {
      "name": "python3",
      "display_name": "Python 3"
    }
  },
  "cells": [
    {
      "cell_type": "markdown",
      "metadata": {
        "id": "view-in-github",
        "colab_type": "text"
      },
      "source": [
        "<a href=\"https://colab.research.google.com/github/annderlau/Contagem_Diamantes_ML/blob/main/Diamante.ipynb\" target=\"_parent\"><img src=\"https://colab.research.google.com/assets/colab-badge.svg\" alt=\"Open In Colab\"/></a>"
      ]
    },
    {
      "cell_type": "code",
      "metadata": {
        "id": "2I53qRUT4_cz"
      },
      "source": [
        "import pandas as pd\n",
        "import numpy as np\n",
        "import matplotlib.pyplot as plt\n",
        "from sklearn.model_selection import train_test_split\n",
        "from sklearn.linear_model import LinearRegression\n",
        "from sklearn.metrics import mean_absolute_error\n",
        " \n",
        "%matplotlib inline\n",
        " \n",
        "# Importante não mudar essa seed pois sua atividade será avaliada baseada nos resultados dessa seed\n",
        "np.random.seed(123)"
      ],
      "execution_count": 1,
      "outputs": []
    },
    {
      "cell_type": "code",
      "metadata": {
        "id": "ugRajeIC5NLD"
      },
      "source": [
        "# 1. Importar no Pandas\n",
        "df = pd.read_csv('https://github.com/storopoli/ciencia-de-dados/raw/master/notebooks/data/diamonds.csv',\n",
        "                 index_col=0,\n",
        "                 dtype={\n",
        "                     'carat': np.float64,\n",
        "                     'cut': object,\n",
        "                     'color': object,\n",
        "                     'clarity': object,\n",
        "                     'depth': np.float64,\n",
        "                     'table': np.float64,\n",
        "                     'price': np.int64,\n",
        "                     'x': np.float64,\n",
        "                     'y': np.float64,\n",
        "                     'z': np.float64\n",
        "                 })"
      ],
      "execution_count": 2,
      "outputs": []
    },
    {
      "cell_type": "code",
      "metadata": {
        "id": "cHXWqWG9AROl"
      },
      "source": [
        "# 2.Groupby\n",
        "# Price = coluna que eu vou agrupar.\n",
        "# Cut = coluna que eu quero selecionar o valor.\n",
        "# groupby.Price = coluna que eu quero que agrupe.\n",
        "mean_price_cut = df.groupby('cut')['price'].mean()\n",
        "median_price_cut = df.groupby('cut')['price'].median()\n",
        " \n",
        "# Color = coluna que eu vou agrupar.\n",
        "# Carat = coluna que eu quero selecionar o valor.\n",
        "# groupby.color = coluna que eu quero que agrupe.\n",
        "mean_carat_color = df.groupby('color')['carat'].mean()\n",
        "median_carat_color = df.groupby('color')['carat'].median()"
      ],
      "execution_count": 3,
      "outputs": []
    },
    {
      "cell_type": "code",
      "metadata": {
        "id": "8ovGuDV8E3eA",
        "outputId": "1bd11453-50db-4d62-8db9-8511ea096e6d",
        "colab": {
          "base_uri": "https://localhost:8080/",
          "height": 312
        }
      },
      "source": [
        "# 3.Plots\n",
        "# x1 Removido agora usa o y1.index\n",
        "plt.hist(df.price)\n",
        "plt.title('Preço', fontsize=25)\n",
        "plt.xlabel('Preço', fontsize=18)\n",
        "plt.ylabel('Quantidade', fontsize=18)\n",
        "plt.show\n",
        " \n",
        "y1 = pd.Series.value_counts(df.cut)\n",
        "plt.bar(y1.index, y1, width=0.8)\n",
        "plt.title('Corte', fontsize=25)\n",
        "plt.ylabel('Quantidade', fontsize=18)\n",
        "plt.xlabel('Qualidade de Corte', fontsize=18)\n",
        "plt.show()"
      ],
      "execution_count": 4,
      "outputs": [
        {
          "output_type": "display_data",
          "data": {
            "image/png": "[encoded data removed]",
            "text/plain": [
              "<Figure size 432x288 with 1 Axes>"
            ]
          },
          "metadata": {
            "tags": [],
            "needs_background": "light"
          }
        }
      ]
    },
    {
      "cell_type": "code",
      "metadata": {
        "id": "8_1Qa3PZzC_9"
      },
      "source": [
        " # 4. Pré-processamento Scikit-Learn\n",
        "df_final = pd.get_dummies(df, columns=['cut', 'color', 'clarity'])\n",
        " \n",
        "X = df_final.drop(['price'], axis=1)\n",
        "y = df_final['price']\n",
        "\n",
        "for dsc in range(0,2): \n",
        "  X_train, X_test, y_train, y_test = train_test_split(X,y, test_size = 0.25)\n",
        " \n",
        "  # 5. Treinamento do Modelo\n",
        "  clf = LinearRegression()\n",
        "  clf.fit(X_train, y_train)"
      ],
      "execution_count": 5,
      "outputs": []
    },
    {
      "cell_type": "code",
      "metadata": {
        "id": "Zy-eMqldjtDD",
        "outputId": "124bf292-a922-426c-8af5-8a763d486a00",
        "colab": {
          "base_uri": "https://localhost:8080/"
        }
      },
      "source": [
        "# 5. Treinamento do modelo\n",
        "y_pred_train = clf.predict(X_train)\n",
        "mae_train = mean_absolute_error(y_pred_train, y_train)\n",
        " \n",
        "y_pred_test = clf.predict(X_test)\n",
        "mae_test = mean_absolute_error(y_pred_test, y_test)\n",
        " \n",
        "print(f\"MAE Treino: {mae_train}\")\n",
        "print(f\"MAE Teste: {mae_test}\")"
      ],
      "execution_count": 6,
      "outputs": [
        {
          "output_type": "stream",
          "text": [
            "MAE Treino: 739.2790890487247\n",
            "MAE Teste: 742.5265580440711\n"
          ],
          "name": "stdout"
        }
      ]
    },
    {
      "cell_type": "code",
      "metadata": {
        "id": "uZF8tBAddDTb"
      },
      "source": [
        "from numpy.testing import assert_approx_equal\n",
        " \n",
        "# Groupbys\n",
        "assert_approx_equal(mean_price_cut['Good'], 3928.8644)\n",
        "assert_approx_equal(median_price_cut['Fair'], 3282)\n",
        "assert_approx_equal(mean_carat_color['D'], 0.657794833)\n",
        "assert_approx_equal(median_carat_color['H'], 0.9)\n",
        "# MAEs\n",
        "assert_approx_equal(mae_train, 739.279089)\n",
        "assert_approx_equal(mae_test, 742.526558)"
      ],
      "execution_count": 7,
      "outputs": []
    }
  ]
}